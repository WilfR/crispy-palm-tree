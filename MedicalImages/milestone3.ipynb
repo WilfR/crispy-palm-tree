{
 "cells": [
  {
   "cell_type": "code",
   "execution_count": 1,
   "metadata": {},
   "outputs": [
    {
     "name": "stdout",
     "output_type": "stream",
     "text": [
      "Input volume shape: torch.Size([1, 1, 90, 120, 120])\n",
      "Output volume shape: torch.Size([1, 1, 90, 120, 120])\n"
     ]
    }
   ],
   "source": [
    "import unittest\n",
    "import ConvNet\n",
    "import NiftiDataset\n",
    "import torchvision\n",
    "import torch\n",
    "\n",
    "\n",
    "nn = ConvNet.ConvNet()\n",
    "ds = NiftiDataset.NiftiDataset('./small/t1','./small/t2')\n",
    "t1InputVolume, t2Volume = ds[10]\n",
    "\n",
    "t1InputVolume_t = torchvision.transforms.functional.to_tensor(t1InputVolume)\n",
    "t1InputVolume_t = t1InputVolume_t.unsqueeze(0)\n",
    "t1InputVolume_t = t1InputVolume_t.unsqueeze(0)\n",
    "t1InputVolume_t = t1InputVolume_t.float()\n",
    "\n",
    "t2OutputVolume_t = nn.forward( t1InputVolume_t )\n",
    "\n",
    "print(f'Input volume shape: {t1InputVolume_t.shape}')\n",
    "print(f'Output volume shape: {t2OutputVolume_t.shape}')\n",
    "\n",
    "\n"
   ]
  },
  {
   "cell_type": "code",
   "execution_count": null,
   "metadata": {},
   "outputs": [],
   "source": []
  }
 ],
 "metadata": {
  "kernelspec": {
   "display_name": "Python 3",
   "language": "python",
   "name": "python3"
  },
  "language_info": {
   "codemirror_mode": {
    "name": "ipython",
    "version": 3
   },
   "file_extension": ".py",
   "mimetype": "text/x-python",
   "name": "python",
   "nbconvert_exporter": "python",
   "pygments_lexer": "ipython3",
   "version": "3.6.10"
  }
 },
 "nbformat": 4,
 "nbformat_minor": 4
}
